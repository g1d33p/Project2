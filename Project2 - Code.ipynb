{
 "cells": [
  {
   "cell_type": "code",
   "execution_count": null,
   "metadata": {},
   "outputs": [],
   "source": []
  },
  {
   "cell_type": "code",
   "execution_count": 33,
   "metadata": {},
   "outputs": [
    {
     "name": "stdout",
     "output_type": "stream",
     "text": [
      "Q1: Average experience level in X: 1.82\n",
      "Q2: Average experience level in scaled X: 0.61\n",
      "Q3: Number of instances in the largest cluster (3 clusters): 329\n",
      "Q4: Highest silhouette score: 0.41\n",
      "Q5: Best n_clusters: 9 clusters\n",
      "Q6: Number of instances in the largest cluster (9 clusters): 143\n",
      "Q7: All non-US in smallest cluster: False, Majority remote: False, All FT in largest cluster: True, All FT in smallest cluster: False, All US in largest cluster: True\n"
     ]
    }
   ],
   "source": [
    "import pandas as pd\n",
    "from sklearn.preprocessing import MinMaxScaler\n",
    "from sklearn.cluster import KMeans\n",
    "from sklearn.metrics import silhouette_score\n",
    "\n",
    "# Load the dataset\n",
    "data = pd.read_csv('/Users/jeevandeep/Downloads/ds_salaries_assignment2.csv')\n",
    "\n",
    "# Prepare the feature set X by excluding the target column 'salary_in_usd'\n",
    "X = data.drop(columns=['salary_in_usd'])\n",
    "\n",
    "# Scale the feature set using MinMaxScaler\n",
    "scaler = MinMaxScaler()\n",
    "X_scaled = pd.DataFrame(scaler.fit_transform(X), columns=X.columns)\n",
    "\n",
    "# Train a KMeans clustering algorithm on the scaled feature set with 3 clusters, using random_state=0\n",
    "kmeans_3 = KMeans(n_clusters=3, random_state=0)\n",
    "kmeans_3.fit(X_scaled)\n",
    "cluster_counts_3 = pd.Series(kmeans_3.labels_).value_counts()\n",
    "largest_cluster_size_3 = cluster_counts_3.max()\n",
    "\n",
    "# Calculate silhouette scores for a range of cluster numbers to find the optimal number\n",
    "range_clusters = range(2, 10)\n",
    "silhouette_scores = []\n",
    "for n_clusters in range_clusters:\n",
    "    kmeans = KMeans(n_clusters=n_clusters, random_state=0)\n",
    "    cluster_labels = kmeans.fit_predict(X_scaled)\n",
    "    score = silhouette_score(X_scaled, cluster_labels)\n",
    "    silhouette_scores.append(score)\n",
    "\n",
    "# Determine the best number of clusters based on the highest silhouette score\n",
    "best_n_clusters = range_clusters[silhouette_scores.index(max(silhouette_scores))]\n",
    "kmeans_best = KMeans(n_clusters=best_n_clusters, random_state=0)\n",
    "kmeans_best.fit(X_scaled)\n",
    "cluster_counts_best = pd.Series(kmeans_best.labels_).value_counts()\n",
    "largest_cluster_size_best = cluster_counts_best.max()\n",
    "\n",
    "# Analyze the characteristics of clusters\n",
    "data['cluster_labels'] = kmeans_best.labels_\n",
    "smallest_cluster_index = cluster_counts_best.idxmin()\n",
    "largest_cluster_index = cluster_counts_best.idxmax()\n",
    "smallest_cluster_data = data[data['cluster_labels'] == smallest_cluster_index]\n",
    "largest_cluster_data = data[data['cluster_labels'] == largest_cluster_index]\n",
    "smallest_non_us = (smallest_cluster_data['company_location'] == 0).all()\n",
    "majority_remote = (data.groupby('cluster_labels')['remote_ratio'].mean() > 50).all()\n",
    "largest_full_time = (largest_cluster_data['employment_type_FT'] == 1).all()\n",
    "smallest_full_time = (smallest_cluster_data['employment_type_FT'] == 1).all()\n",
    "largest_us = (largest_cluster_data['company_location'] == 1).all()\n",
    "\n",
    "# Print answers to questions\n",
    "print(f\"Q1: Average experience level in X: {data['experience_level'].mean():.2f}\")\n",
    "print(f\"Q2: Average experience level in scaled X: {X_scaled['experience_level'].mean():.2f}\")\n",
    "print(f\"Q3: Number of instances in the largest cluster (3 clusters): {largest_cluster_size_3}\")\n",
    "print(f\"Q4: Highest silhouette score: {max(silhouette_scores):.2f}\")\n",
    "print(f\"Q5: Best n_clusters: {best_n_clusters} clusters\")\n",
    "print(f\"Q6: Number of instances in the largest cluster ({best_n_clusters} clusters): {largest_cluster_size_best}\")\n",
    "print(f\"Q7: All non-US in smallest cluster: {smallest_non_us}, Majority remote: {majority_remote}, \" +\n",
    "      f\"All FT in largest cluster: {largest_full_time}, All FT in smallest cluster: {smallest_full_time}, \" +\n",
    "      f\"All US in largest cluster: {largest_us}\")\n"
   ]
  },
  {
   "cell_type": "code",
   "execution_count": null,
   "metadata": {},
   "outputs": [],
   "source": []
  }
 ],
 "metadata": {
  "kernelspec": {
   "display_name": "Python 3",
   "language": "python",
   "name": "python3"
  },
  "language_info": {
   "codemirror_mode": {
    "name": "ipython",
    "version": 3
   },
   "file_extension": ".py",
   "mimetype": "text/x-python",
   "name": "python",
   "nbconvert_exporter": "python",
   "pygments_lexer": "ipython3",
   "version": "3.12.5"
  }
 },
 "nbformat": 4,
 "nbformat_minor": 2
}
